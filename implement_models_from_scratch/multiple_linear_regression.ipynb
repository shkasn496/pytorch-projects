{
 "cells": [
  {
   "cell_type": "code",
   "execution_count": 75,
   "metadata": {},
   "outputs": [],
   "source": [
    "import numpy as np\n",
    "import pandas as pd\n",
    "import matplotlib.pyplot as plt\n",
    "from sklearn.datasets import fetch_california_housing\n",
    "from sklearn.metrics import r2_score, mean_squared_error, mean_absolute_error\n"
   ]
  },
  {
   "attachments": {},
   "cell_type": "markdown",
   "metadata": {},
   "source": [
    "# Multiple Linear Regression using Gradient Descent"
   ]
  },
  {
   "cell_type": "code",
   "execution_count": 76,
   "metadata": {},
   "outputs": [
    {
     "data": {
      "text/html": [
       "<div>\n",
       "<style scoped>\n",
       "    .dataframe tbody tr th:only-of-type {\n",
       "        vertical-align: middle;\n",
       "    }\n",
       "\n",
       "    .dataframe tbody tr th {\n",
       "        vertical-align: top;\n",
       "    }\n",
       "\n",
       "    .dataframe thead th {\n",
       "        text-align: right;\n",
       "    }\n",
       "</style>\n",
       "<table border=\"1\" class=\"dataframe\">\n",
       "  <thead>\n",
       "    <tr style=\"text-align: right;\">\n",
       "      <th></th>\n",
       "      <th>MedInc</th>\n",
       "      <th>HouseAge</th>\n",
       "      <th>AveRooms</th>\n",
       "      <th>AveBedrms</th>\n",
       "      <th>Population</th>\n",
       "      <th>AveOccup</th>\n",
       "      <th>Latitude</th>\n",
       "      <th>Longitude</th>\n",
       "    </tr>\n",
       "  </thead>\n",
       "  <tbody>\n",
       "    <tr>\n",
       "      <th>0</th>\n",
       "      <td>8.3252</td>\n",
       "      <td>41.0</td>\n",
       "      <td>6.984127</td>\n",
       "      <td>1.023810</td>\n",
       "      <td>322.0</td>\n",
       "      <td>2.555556</td>\n",
       "      <td>37.88</td>\n",
       "      <td>-122.23</td>\n",
       "    </tr>\n",
       "    <tr>\n",
       "      <th>1</th>\n",
       "      <td>8.3014</td>\n",
       "      <td>21.0</td>\n",
       "      <td>6.238137</td>\n",
       "      <td>0.971880</td>\n",
       "      <td>2401.0</td>\n",
       "      <td>2.109842</td>\n",
       "      <td>37.86</td>\n",
       "      <td>-122.22</td>\n",
       "    </tr>\n",
       "    <tr>\n",
       "      <th>2</th>\n",
       "      <td>7.2574</td>\n",
       "      <td>52.0</td>\n",
       "      <td>8.288136</td>\n",
       "      <td>1.073446</td>\n",
       "      <td>496.0</td>\n",
       "      <td>2.802260</td>\n",
       "      <td>37.85</td>\n",
       "      <td>-122.24</td>\n",
       "    </tr>\n",
       "    <tr>\n",
       "      <th>3</th>\n",
       "      <td>5.6431</td>\n",
       "      <td>52.0</td>\n",
       "      <td>5.817352</td>\n",
       "      <td>1.073059</td>\n",
       "      <td>558.0</td>\n",
       "      <td>2.547945</td>\n",
       "      <td>37.85</td>\n",
       "      <td>-122.25</td>\n",
       "    </tr>\n",
       "    <tr>\n",
       "      <th>4</th>\n",
       "      <td>3.8462</td>\n",
       "      <td>52.0</td>\n",
       "      <td>6.281853</td>\n",
       "      <td>1.081081</td>\n",
       "      <td>565.0</td>\n",
       "      <td>2.181467</td>\n",
       "      <td>37.85</td>\n",
       "      <td>-122.25</td>\n",
       "    </tr>\n",
       "  </tbody>\n",
       "</table>\n",
       "</div>"
      ],
      "text/plain": [
       "   MedInc  HouseAge  AveRooms  AveBedrms  Population  AveOccup  Latitude  \\\n",
       "0  8.3252      41.0  6.984127   1.023810       322.0  2.555556     37.88   \n",
       "1  8.3014      21.0  6.238137   0.971880      2401.0  2.109842     37.86   \n",
       "2  7.2574      52.0  8.288136   1.073446       496.0  2.802260     37.85   \n",
       "3  5.6431      52.0  5.817352   1.073059       558.0  2.547945     37.85   \n",
       "4  3.8462      52.0  6.281853   1.081081       565.0  2.181467     37.85   \n",
       "\n",
       "   Longitude  \n",
       "0    -122.23  \n",
       "1    -122.22  \n",
       "2    -122.24  \n",
       "3    -122.25  \n",
       "4    -122.25  "
      ]
     },
     "execution_count": 76,
     "metadata": {},
     "output_type": "execute_result"
    }
   ],
   "source": [
    "# download the dataset\n",
    "X, y = fetch_california_housing(return_X_y=True, as_frame=True)\n",
    "n_samples, n_features = X.shape # 20640, 8\n",
    "X.head()"
   ]
  },
  {
   "cell_type": "markdown",
   "metadata": {},
   "source": [
    "# Feature Normalization"
   ]
  },
  {
   "cell_type": "markdown",
   "metadata": {},
   "source": [
    "1. Subtract the mean value of each feature from the dataset.\n",
    "2. After subtracting the mean, additionally scale (divide) the feature values by their resp. standard deviations.\n"
   ]
  },
  {
   "cell_type": "code",
   "execution_count": 77,
   "metadata": {},
   "outputs": [
    {
     "name": "stderr",
     "output_type": "stream",
     "text": [
      "/Users/kavyakumar/anaconda3/envs/mlmodels/lib/python3.11/site-packages/numpy/core/fromnumeric.py:3462: FutureWarning: In a future version, DataFrame.mean(axis=None) will return a scalar mean over the entire DataFrame. To retain the old behavior, use 'frame.mean(axis=0)' or just 'frame.mean()'\n",
      "  return mean(axis=axis, dtype=dtype, out=out, **kwargs)\n"
     ]
    }
   ],
   "source": [
    "X = (X - np.mean(X))/np.std(X)"
   ]
  },
  {
   "cell_type": "code",
   "execution_count": 78,
   "metadata": {},
   "outputs": [
    {
     "data": {
      "text/html": [
       "<div>\n",
       "<style scoped>\n",
       "    .dataframe tbody tr th:only-of-type {\n",
       "        vertical-align: middle;\n",
       "    }\n",
       "\n",
       "    .dataframe tbody tr th {\n",
       "        vertical-align: top;\n",
       "    }\n",
       "\n",
       "    .dataframe thead th {\n",
       "        text-align: right;\n",
       "    }\n",
       "</style>\n",
       "<table border=\"1\" class=\"dataframe\">\n",
       "  <thead>\n",
       "    <tr style=\"text-align: right;\">\n",
       "      <th></th>\n",
       "      <th>MedInc</th>\n",
       "      <th>HouseAge</th>\n",
       "      <th>AveRooms</th>\n",
       "      <th>AveBedrms</th>\n",
       "      <th>Population</th>\n",
       "      <th>AveOccup</th>\n",
       "      <th>Latitude</th>\n",
       "      <th>Longitude</th>\n",
       "    </tr>\n",
       "  </thead>\n",
       "  <tbody>\n",
       "    <tr>\n",
       "      <th>0</th>\n",
       "      <td>2.344766</td>\n",
       "      <td>0.982143</td>\n",
       "      <td>0.628559</td>\n",
       "      <td>-0.153758</td>\n",
       "      <td>-0.974429</td>\n",
       "      <td>-0.049597</td>\n",
       "      <td>1.052548</td>\n",
       "      <td>-1.327835</td>\n",
       "    </tr>\n",
       "    <tr>\n",
       "      <th>1</th>\n",
       "      <td>2.332238</td>\n",
       "      <td>-0.607019</td>\n",
       "      <td>0.327041</td>\n",
       "      <td>-0.263336</td>\n",
       "      <td>0.861439</td>\n",
       "      <td>-0.092512</td>\n",
       "      <td>1.043185</td>\n",
       "      <td>-1.322844</td>\n",
       "    </tr>\n",
       "    <tr>\n",
       "      <th>2</th>\n",
       "      <td>1.782699</td>\n",
       "      <td>1.856182</td>\n",
       "      <td>1.155620</td>\n",
       "      <td>-0.049016</td>\n",
       "      <td>-0.820777</td>\n",
       "      <td>-0.025843</td>\n",
       "      <td>1.038503</td>\n",
       "      <td>-1.332827</td>\n",
       "    </tr>\n",
       "    <tr>\n",
       "      <th>3</th>\n",
       "      <td>0.932968</td>\n",
       "      <td>1.856182</td>\n",
       "      <td>0.156966</td>\n",
       "      <td>-0.049833</td>\n",
       "      <td>-0.766028</td>\n",
       "      <td>-0.050329</td>\n",
       "      <td>1.038503</td>\n",
       "      <td>-1.337818</td>\n",
       "    </tr>\n",
       "    <tr>\n",
       "      <th>4</th>\n",
       "      <td>-0.012881</td>\n",
       "      <td>1.856182</td>\n",
       "      <td>0.344711</td>\n",
       "      <td>-0.032906</td>\n",
       "      <td>-0.759847</td>\n",
       "      <td>-0.085616</td>\n",
       "      <td>1.038503</td>\n",
       "      <td>-1.337818</td>\n",
       "    </tr>\n",
       "  </tbody>\n",
       "</table>\n",
       "</div>"
      ],
      "text/plain": [
       "     MedInc  HouseAge  AveRooms  AveBedrms  Population  AveOccup  Latitude  \\\n",
       "0  2.344766  0.982143  0.628559  -0.153758   -0.974429 -0.049597  1.052548   \n",
       "1  2.332238 -0.607019  0.327041  -0.263336    0.861439 -0.092512  1.043185   \n",
       "2  1.782699  1.856182  1.155620  -0.049016   -0.820777 -0.025843  1.038503   \n",
       "3  0.932968  1.856182  0.156966  -0.049833   -0.766028 -0.050329  1.038503   \n",
       "4 -0.012881  1.856182  0.344711  -0.032906   -0.759847 -0.085616  1.038503   \n",
       "\n",
       "   Longitude  \n",
       "0  -1.327835  \n",
       "1  -1.322844  \n",
       "2  -1.332827  \n",
       "3  -1.337818  \n",
       "4  -1.337818  "
      ]
     },
     "execution_count": 78,
     "metadata": {},
     "output_type": "execute_result"
    }
   ],
   "source": [
    "# after feature norm\n",
    "X.head()"
   ]
  },
  {
   "cell_type": "markdown",
   "metadata": {},
   "source": [
    "# Create Train - Test split"
   ]
  },
  {
   "cell_type": "code",
   "execution_count": 79,
   "metadata": {},
   "outputs": [
    {
     "name": "stdout",
     "output_type": "stream",
     "text": [
      "16512 4128\n"
     ]
    }
   ],
   "source": [
    "# Concat X and y \n",
    "X = pd.concat([X, y], axis=1)\n",
    "\n",
    "# get train and test sets\n",
    "train_set = X.sample(frac=0.8, replace=False, random_state=42)\n",
    "\n",
    "# Drop all indexes from the dataframe that exist in the training set\n",
    "test_set = X.drop(train_set.index)\n",
    "\n",
    "print(len(train_set), len(test_set))"
   ]
  },
  {
   "cell_type": "code",
   "execution_count": 80,
   "metadata": {},
   "outputs": [
    {
     "name": "stdout",
     "output_type": "stream",
     "text": [
      "(16512, 9) (16512, 1) (4128, 9) (4128, 1)\n",
      "[[ 1.         -0.09446958  1.85618152 ... -0.08650142  1.03382082\n",
      "  -1.33781784]\n",
      " [ 1.         -0.31591677  1.85618152 ... -0.09836595  1.03850269\n",
      "  -1.34280914]\n",
      " [ 1.         -0.63011176  1.85618152 ... -0.10474848  1.03382082\n",
      "  -1.34280914]\n",
      " ...\n",
      " [ 1.         -0.39250476 -1.08376738 ... -0.03381297  1.69864575\n",
      "  -0.93851326]\n",
      " [ 1.         -1.14259331 -0.92485123 ... -0.0717345   1.77823747\n",
      "  -0.8237132 ]\n",
      " [ 1.         -0.78012947 -1.00430931 ... -0.04368215  1.75014627\n",
      "  -0.83369581]]\n"
     ]
    }
   ],
   "source": [
    "X_train, y_train = train_set.iloc[:, :-1].to_numpy(), train_set.iloc[:, -1].to_numpy()\n",
    "X_test, y_test = test_set.iloc[:, :-1].to_numpy(), test_set.iloc[:, -1].to_numpy()\n",
    "\n",
    "# adding intercept term to X_train and X_test data in 0th column\n",
    "# now, we will have 8 + 1 i.e (m+1) features\n",
    "ones = np.ones((X_train.shape[0],1))\n",
    "X_train = np.column_stack((ones, X_train)) # same as np.hstack((ones, X_train))\n",
    "\n",
    "ones = np.ones((X_test.shape[0],1))\n",
    "X_test = np.column_stack((ones, X_test)) # same as np.hstack((ones, X_train))\n",
    "\n",
    "# adding 1 column to y_train and y_test data\n",
    "y_train, y_test = y_train[:, np.newaxis], y_test[:, np.newaxis]\n",
    "\n",
    "print(X_train.shape, y_train.shape, X_test.shape, y_test.shape)\n",
    "print(X_test)"
   ]
  },
  {
   "cell_type": "markdown",
   "metadata": {},
   "source": [
    "# Calculate Closed form solution:\n",
    " Calculate R2 score to check whether Multi Linear Regression is a good model \n",
    " or if non-linear relationships are present\n",
    " which can be better explained with a knn or trees model"
   ]
  },
  {
   "cell_type": "code",
   "execution_count": 127,
   "metadata": {},
   "outputs": [
    {
     "name": "stdout",
     "output_type": "stream",
     "text": [
      "theta coefficients: \n",
      " [[ 2.06700856]\n",
      " [ 0.84498499]\n",
      " [ 0.118311  ]\n",
      " [-0.29811491]\n",
      " [ 0.31340891]\n",
      " [-0.00863296]\n",
      " [-0.04298875]\n",
      " [-0.88590272]\n",
      " [-0.85719466]]\n",
      "\n",
      "R2 score (train): 0.6105\n",
      "MAE (train):  0.53\n",
      "MSE (train):  0.52\n",
      "RMSE (train):  0.64\n",
      "\n",
      "R2 score (test): 0.5875\n",
      "MAE (test):  0.54\n",
      "MSE (test):  0.56\n",
      "RMSE (test):  0.64\n"
     ]
    },
    {
     "data": {
      "text/plain": [
       "'\\nThus, the MLP model cannot do very well on the dataset. The dataset probably contains\\nnon-linear relationships that need to be explored by knn or random forests models.\\n'"
      ]
     },
     "execution_count": 127,
     "metadata": {},
     "output_type": "execute_result"
    }
   ],
   "source": [
    "# Closed form solution :\n",
    "def closed_form_solution(X, y):\n",
    "    w = np.linalg.inv(X.T @ X) @ X.T @ y\n",
    "    return w\n",
    "\n",
    "w = closed_form_solution(X_train, y_train)\n",
    "print(\"theta coefficients: \\n\", w)\n",
    "# calculate r2 score on closed form solution\n",
    "y_train_pred = X_train @ w\n",
    "train_score = r2_score(y_train, y_train_pred)\n",
    "mae_s = mean_absolute_error(y_true=y_train, y_pred=y_train_pred)\n",
    "mse_s = mean_squared_error(y_true=y_train, y_pred=y_train_pred)\n",
    "rmse_s = np.sqrt(mse)\n",
    "print(f'\\nR2 score (train): {train_score:.4f}')\n",
    "print(\"MAE (train): \", round(mae_s,2))\n",
    "print(\"MSE (train): \", round(mse_s,2))\n",
    "print(\"RMSE (train): \", round(rmse_s,2))\n",
    "\n",
    "\n",
    "y_test_pred = X_test @ w\n",
    "\n",
    "test_score = r2_score(y_test, y_test_pred)\n",
    "mae_s = mean_absolute_error(y_true=y_test, y_pred=y_test_pred)\n",
    "mse_s = mean_squared_error(y_true=y_test, y_pred=y_test_pred)\n",
    "rmse_s = np.sqrt(mse)\n",
    "print(f'\\nR2 score (test): {test_score:.4f}')\n",
    "print(\"MAE (test): \", round(mae_s,2))\n",
    "print(\"MSE (test): \", round(mse_s,2))\n",
    "print(\"RMSE (test): \", round(rmse_s,2))\n",
    "\n",
    "\"\"\"\n",
    "Thus, the MLP model cannot do very well on the dataset. The dataset probably contains\n",
    "non-linear relationships that need to be explored by knn or random forests models.\n",
    "\"\"\""
   ]
  },
  {
   "cell_type": "markdown",
   "metadata": {},
   "source": [
    "# Create Multi Linear Regression Class"
   ]
  },
  {
   "cell_type": "code",
   "execution_count": 103,
   "metadata": {},
   "outputs": [],
   "source": [
    "class MultiLinearRegression():\n",
    "    def __init__(self, m_features, lr):\n",
    "        self.theta = np.ones(shape=(m_features, 1)) # theta0, theta1, ..., theta_m\n",
    "        self.lr = lr\n",
    "        return\n",
    "    \n",
    "    def forward(self, X):\n",
    "        return np.dot(X, self.theta) # n x 1\n",
    "    \n",
    "    def backward(self, X, y, y_hat):\n",
    "        m = y.shape[0]\n",
    "        temp = y_hat - y\n",
    "        temp = np.dot(X.T, temp)\n",
    "        d_theta = (1/m) * temp # (m+1) x 1\n",
    "        self.theta -= self.lr * d_theta\n",
    "        return\n",
    "        \n",
    "def avg_mse_loss(y, y_hat):\n",
    "    m = y_hat.shape[0]\n",
    "    e = y_hat - y\n",
    "    return np.sum(np.power(e,2)) / (2*m)"
   ]
  },
  {
   "cell_type": "markdown",
   "metadata": {},
   "source": [
    "# Import model and hyperparameters"
   ]
  },
  {
   "cell_type": "code",
   "execution_count": 121,
   "metadata": {},
   "outputs": [
    {
     "name": "stdout",
     "output_type": "stream",
     "text": [
      "(9, 1)\n"
     ]
    }
   ],
   "source": [
    "epochs = 5000\n",
    "lr = 0.001\n",
    "features = X_train.shape[1] # (m + 1)\n",
    "\n",
    "model = MultiLinearRegression(m_features=features, lr=lr)\n",
    "print(model.theta.shape)"
   ]
  },
  {
   "cell_type": "markdown",
   "metadata": {},
   "source": [
    "# Training Pipeline"
   ]
  },
  {
   "cell_type": "code",
   "execution_count": 122,
   "metadata": {},
   "outputs": [
    {
     "data": {
      "text/plain": [
       "((16512, 1), (16512, 1))"
      ]
     },
     "execution_count": 122,
     "metadata": {},
     "output_type": "execute_result"
    }
   ],
   "source": [
    "y_train.shape, model.forward(X_train).shape"
   ]
  },
  {
   "cell_type": "code",
   "execution_count": 123,
   "metadata": {},
   "outputs": [
    {
     "name": "stdout",
     "output_type": "stream",
     "text": [
      "RMSE Loss = 1.94 at epoch 0/5000\n",
      "RMSE Loss = 0.71 at epoch 2000/5000\n",
      "RMSE Loss = 0.63 at epoch 4000/5000\n"
     ]
    }
   ],
   "source": [
    "train_loss = []\n",
    "for epoch in range(epochs):\n",
    "    # forward propagation\n",
    "    y_hat = model.forward(X=X_train) # nx1\n",
    "\n",
    "    # calculate loss\n",
    "    cf = avg_mse_loss(y=y_train, y_hat=y_hat)\n",
    "    train_loss.append(cf)\n",
    "\n",
    "    # backward propagation, calculate gradients, update weights\n",
    "    model.backward(X=X_train, y=y_train, y_hat=y_hat)\n",
    "\n",
    "    if epoch%2000==0:\n",
    "        print(f'RMSE Loss = {round(np.sqrt(cf),2)} at epoch {epoch}/{epochs}')"
   ]
  },
  {
   "cell_type": "code",
   "execution_count": 124,
   "metadata": {},
   "outputs": [
    {
     "data": {
      "image/png": "[encoded data removed]",
      "text/plain": [
       "<Figure size 640x480 with 1 Axes>"
      ]
     },
     "metadata": {},
     "output_type": "display_data"
    }
   ],
   "source": [
    "def plot_cost(loss, num_epochs):\n",
    "\tplt.xlabel('Epochs')\n",
    "\tplt.ylabel('Cost')\n",
    "\tplt.plot(num_epochs, loss, 'm', linewidth = \"5\")\n",
    "\tplt.show()\n",
    "\n",
    "plot_cost(train_loss, range(epochs))\n"
   ]
  },
  {
   "cell_type": "markdown",
   "metadata": {},
   "source": [
    "# Predict on test data"
   ]
  },
  {
   "cell_type": "code",
   "execution_count": 125,
   "metadata": {},
   "outputs": [],
   "source": [
    "\n",
    "def predict():\n",
    "    # store best weights\n",
    "    trained_theta = model.theta\n",
    "    batch = X_test.shape[0]\n",
    "    y_hat = np.dot(X_test, trained_theta)\n",
    "\n",
    "    # rmse\n",
    "    mse = avg_mse_loss(y=y_test, y_hat=y_hat)\n",
    "    rmse = np.sqrt(mse)\n",
    "\n",
    "    # mae\n",
    "    e = np.abs(y_test-y_hat)\n",
    "    mae = (1/(batch)) * np.sum(e)\n",
    "\n",
    "    # r squared\n",
    "    y_mean = np.mean(y_test)\n",
    "    sst = np.sum((y_test-y_mean)**2)\n",
    "    sse = np.sum((y_test-y_hat)**2)\n",
    "    r2 = 1 - (sse/sst)\n",
    "    \n",
    "    return mae, mse, rmse, r2"
   ]
  },
  {
   "cell_type": "code",
   "execution_count": 126,
   "metadata": {},
   "outputs": [
    {
     "name": "stdout",
     "output_type": "stream",
     "text": [
      "Eval metrics calculated through my predict() function vs sklearn :\n",
      "MAE sklearn:  0.67  MAE predict():  0.67\n",
      "MSE sklearn:  0.81  MSE predict():  0.41\n",
      "RMSE sklearn:  0.64  RMSE predict():  0.64\n",
      "R2 sklearn:  0.4  R2 predict():  0.4\n"
     ]
    }
   ],
   "source": [
    "mae, mse, rmse, r2 = predict()\n",
    "\n",
    "y_hat = model.forward(X_test)\n",
    "mae_s = mean_absolute_error(y_true=y_test, y_pred=y_hat)\n",
    "mse_s = mean_squared_error(y_true=y_test, y_pred=y_hat)\n",
    "rmse_s = np.sqrt(mse)\n",
    "r2_s = r2_score(y_true=y_test, y_pred=y_hat)\n",
    "\n",
    "print(\"Eval metrics calculated through my predict() function vs sklearn :\")\n",
    "print(\"MAE sklearn: \", round(mae_s,2), \" MAE predict(): \", round(mae, 2))\n",
    "print(\"MSE sklearn: \", round(mse_s,2), \" MSE predict(): \", round(mse,2))\n",
    "print(\"RMSE sklearn: \", round(rmse_s,2), \" RMSE predict(): \", round(rmse,2))\n",
    "print(\"R2 sklearn: \", round(r2_s,2), \" R2 predict(): \", round(r2,2))\n"
   ]
  }
 ],
 "metadata": {
  "kernelspec": {
   "display_name": "mlmodels",
   "language": "python",
   "name": "python3"
  },
  "language_info": {
   "codemirror_mode": {
    "name": "ipython",
    "version": 3
   },
   "file_extension": ".py",
   "mimetype": "text/x-python",
   "name": "python",
   "nbconvert_exporter": "python",
   "pygments_lexer": "ipython3",
   "version": "3.11.3"
  },
  "orig_nbformat": 4
 },
 "nbformat": 4,
 "nbformat_minor": 2
}
