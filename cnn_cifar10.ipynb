{
 "cells": [
  {
   "cell_type": "code",
   "execution_count": 1,
   "metadata": {},
   "outputs": [],
   "source": [
    "import torch, math\n",
    "import torch.nn as nn # all neural network modules, nn.Linear, nn.Conv2d, BatchNorm, loss functions\n",
    "import torch.optim as optim # all optimization algorithms, SGD, Adam, etc.\n",
    "import torch.nn.functional as F # all functions that dont have any parameters eg: activations like relu\n",
    "from torch.utils.data import Dataset, DataLoader # gives easier dataset management and creates mini batches\n",
    "import torchvision.datasets as datasets # standard public datasets\n",
    "import torchvision.transforms as transforms # transforms on dataset\n",
    "import numpy as np"
   ]
  },
  {
   "cell_type": "markdown",
   "metadata": {},
   "source": [
    "# Hyperparameters"
   ]
  },
  {
   "cell_type": "code",
   "execution_count": 2,
   "metadata": {},
   "outputs": [],
   "source": [
    "BATCH_SIZE = 8\n",
    "EPOCHS = 50\n",
    "LR = 0.001\n",
    "INPUT_CHANNELS = 3\n",
    "NUM_CLASSES = 10\n",
    "RESIZE_WIDTH = 32\n",
    "RESIZE_HEIGHT = 32\n",
    "\n",
    "device = 'cuda' if torch.cuda.is_available() else 'cpu'"
   ]
  },
  {
   "cell_type": "markdown",
   "metadata": {},
   "source": [
    "# Apply data transforms for image classification"
   ]
  },
  {
   "cell_type": "code",
   "execution_count": 3,
   "metadata": {},
   "outputs": [
    {
     "name": "stdout",
     "output_type": "stream",
     "text": [
      "Files already downloaded and verified\n",
      "[0.4941781  0.4851347  0.45040762] [0.24667414 0.24295948 0.2616299 ]\n"
     ]
    }
   ],
   "source": [
    "# 1. Get mean and std deviation of my dataset\n",
    "test_dataset = datasets.CIFAR10(root=\"dataset/\", train=False, transform=transforms.ToTensor(),\n",
    "                                download=True)\n",
    "\n",
    "loader = DataLoader(dataset=test_dataset, batch_size=64)\n",
    "def get_mean_std(loader):\n",
    "    '''Calculate mean for input channels and std dev for input channels'''\n",
    "    # std_dev = E[X**2] - E[X]**2\n",
    "    channels_sum, channels_squared_sum, num_batches = 0, 0, 0\n",
    "    for data, _ in loader:\n",
    "        ''' We have an input that is (N, C, H, W) where N is the number of examples in our batch,\n",
    "        C the number of channels and H, W the height and width. \n",
    "        We want to have the mean (of each channel) across all examples, all the height pixels and width pixels. \n",
    "        This is why I specify dim=[0,2,3], because we want to reduce all the other dimensions \n",
    "        except for the channels. '''\n",
    "        channels_sum += torch.mean(data, dim=[0, 2, 3])\n",
    "        channels_squared_sum += torch.mean(data**2, dim=[0, 2, 3])\n",
    "        num_batches += 1\n",
    "    \n",
    "    mean = channels_sum / num_batches\n",
    "    std = torch.sqrt((channels_squared_sum/num_batches) - mean**2)\n",
    "    return mean.numpy(), std.numpy()\n",
    "\n",
    "MEAN, STD = get_mean_std(loader)\n",
    "print(MEAN, STD)\n",
    "\n",
    "transform = transforms.Compose([\n",
    "    transforms.RandomResizedCrop(size=(RESIZE_WIDTH,RESIZE_HEIGHT), antialias=True),\n",
    "    transforms.RandomHorizontalFlip(p=0.5),\n",
    "    transforms.ToTensor(),\n",
    "    transforms.Normalize(mean=MEAN, std=STD)\n",
    "])"
   ]
  },
  {
   "cell_type": "markdown",
   "metadata": {},
   "source": [
    "# Load the dataset"
   ]
  },
  {
   "cell_type": "code",
   "execution_count": 4,
   "metadata": {},
   "outputs": [
    {
     "name": "stdout",
     "output_type": "stream",
     "text": [
      "Files already downloaded and verified\n",
      "Files already downloaded and verified\n"
     ]
    }
   ],
   "source": [
    "# load the cifar 10 dataset\n",
    "train_dataset = datasets.CIFAR10(root=\"dataset/\", train=True, \n",
    "                                 transform=transform,\n",
    "                                  download=True)\n",
    "test_dataset = datasets.CIFAR10(root=\"dataset/\", train=False, \n",
    "                                transform=transform,\n",
    "                                download=True)\n",
    "\n",
    "# Instantiate loader objects to facilitate processing\n",
    "train_loader = DataLoader(dataset=train_dataset, batch_size=BATCH_SIZE, shuffle=True)\n",
    "test_loader = DataLoader(dataset=test_dataset, batch_size=BATCH_SIZE, shuffle=False)"
   ]
  },
  {
   "cell_type": "code",
   "execution_count": 5,
   "metadata": {},
   "outputs": [],
   "source": [
    "# Creating our CNN class extending from nn.module\n",
    "class CNN(nn.Module):\n",
    "    def __init__(self, input_channels, num_classes):\n",
    "        ''' define the layers of the network '''\n",
    "        super(CNN, self).__init__()\n",
    "        self.conv1 = nn.Conv2d(in_channels=input_channels, out_channels=32,\n",
    "                               kernel_size=(3,3)) # 32 x 30 x 30\n",
    "        self.conv2 = nn.Conv2d(in_channels=self.conv1.out_channels, out_channels=32,\n",
    "                               kernel_size=(3,3)) # 32 x 28 x 28\n",
    "        self.pool1 = nn.MaxPool2d(kernel_size=(2,2), stride=(2,2)) # 32 x 14 x 14\n",
    "\n",
    "        self.conv3 = nn.Conv2d(in_channels=self.conv2.out_channels, out_channels=64,\n",
    "                               kernel_size=(3,3)) # 64 x 12 x 12\n",
    "        self.conv4 = nn.Conv2d(in_channels=self.conv3.out_channels, out_channels=64,\n",
    "                               kernel_size=(3,3)) # 64 x 10 x 10\n",
    "        self.pool2 = nn.MaxPool2d(kernel_size=(2,2), stride=(2,2)) # 64 x 5 x 5\n",
    "\n",
    "        self.fc1 = nn.Linear(in_features=self.conv4.out_channels * 5 * 5,\n",
    "                             out_features= 5 * 5)\n",
    "        self.fc2 = nn.Linear(in_features=self.fc1.out_features, out_features=num_classes)\n",
    "        return\n",
    "    \n",
    "    def forward(self, x):\n",
    "        ''' progresses the data across the layers '''\n",
    "        out = F.relu(self.conv1(x))\n",
    "        out = F.relu(self.conv2(out))\n",
    "        out = self.pool1(out)\n",
    "\n",
    "        out = F.relu(self.conv3(out))\n",
    "        out = F.relu(self.conv4(out))\n",
    "        out = self.pool2(out)\n",
    "\n",
    "        # need to flatten conv features from NxCxHxW to Nxfeatures before sending to fc block\n",
    "        out = out.reshape(out.shape[0], -1) # same as out = out.view(out.shape[0], -1)\n",
    "        out = F.relu(self.fc1(out))\n",
    "        out = self.fc2(out) # N x num_classes\n",
    "        return out"
   ]
  },
  {
   "cell_type": "markdown",
   "metadata": {},
   "source": [
    "# Testing the CNN on dummy data"
   ]
  },
  {
   "cell_type": "code",
   "execution_count": 23,
   "metadata": {},
   "outputs": [
    {
     "data": {
      "text/plain": [
       "torch.Size([8, 10])"
      ]
     },
     "execution_count": 23,
     "metadata": {},
     "output_type": "execute_result"
    }
   ],
   "source": [
    "model = CNN(input_channels=INPUT_CHANNELS, num_classes=NUM_CLASSES).to(device)\n",
    "dummy_data = torch.rand(size=(BATCH_SIZE, INPUT_CHANNELS, RESIZE_HEIGHT, RESIZE_WIDTH)).to(device)\n",
    "model(dummy_data).shape # BATCH_SIZE x NUM_CLASSES"
   ]
  },
  {
   "cell_type": "markdown",
   "metadata": {},
   "source": [
    "# Load the loss and optimizer"
   ]
  },
  {
   "cell_type": "code",
   "execution_count": 24,
   "metadata": {},
   "outputs": [],
   "source": [
    "criterion = nn.CrossEntropyLoss()\n",
    "optimizer = optim.Adam(params=model.parameters(), lr=LR)\n",
    "scheduler = optim.lr_scheduler.ReduceLROnPlateau(optimizer, factor=0.1, patience=5, verbose=True)"
   ]
  },
  {
   "cell_type": "code",
   "execution_count": 34,
   "metadata": {},
   "outputs": [
    {
     "data": {
      "text/plain": [
       "(50000, 50000)"
      ]
     },
     "execution_count": 34,
     "metadata": {},
     "output_type": "execute_result"
    }
   ],
   "source": [
    "len(train_loader.dataset), len(train_dataset)"
   ]
  },
  {
   "cell_type": "markdown",
   "metadata": {},
   "source": [
    "# Train Pipeline"
   ]
  },
  {
   "cell_type": "code",
   "execution_count": 35,
   "metadata": {},
   "outputs": [],
   "source": [
    "def train():\n",
    "    model.train()\n",
    "    epoch_avg_train_loss = []\n",
    "    for epoch in range(EPOCHS):\n",
    "        train_loss = 0.0\n",
    "        for data, target in train_loader:\n",
    "            # push data to device\n",
    "            data, target = data.to(device), target.to(device)\n",
    "\n",
    "            # Forward propagation\n",
    "            logits = model(data)\n",
    "\n",
    "            # Calculate loss\n",
    "            loss = criterion(logits, target)\n",
    "            train_loss += loss.item() * data.size(0)\n",
    "\n",
    "            # Clean the previous gradients\n",
    "            optimizer.zero_grad()\n",
    "\n",
    "            # Backpropagation from loss, calculate new gradients\n",
    "            loss.backward()\n",
    "\n",
    "            # Update weights by stepping in direction of min gradients\n",
    "            optimizer.step()\n",
    "        \n",
    "        # calculate average losses\n",
    "        train_loss /= len(train_dataset)\n",
    "        epoch_avg_train_loss.append(train_loss)\n",
    "        scheduler.step(train_loss)\n",
    "        if epoch % 2 ==0:\n",
    "            print(f\"Epoch : {epoch},  Train Loss: {train_loss:.2f}\")\n",
    "\n",
    "    return epoch_avg_train_loss"
   ]
  },
  {
   "cell_type": "code",
   "execution_count": 36,
   "metadata": {},
   "outputs": [],
   "source": [
    "def predict():\n",
    "    model.eval()\n",
    "    correct_samples, avg_test_loss = 0, 0\n",
    "    with torch.no_grad():\n",
    "        for data, target in test_loader:\n",
    "            # push data to device\n",
    "            data, target = data.to(device), target.to(device)\n",
    "\n",
    "            # Forward propagation\n",
    "            logits = model(data)\n",
    "\n",
    "            # Calculate loss\n",
    "            loss = criterion(logits, target)\n",
    "            avg_test_loss += loss.item() * data.size(0)\n",
    "\n",
    "            # Get the class\n",
    "            pred = torch.argmax(input=torch.softmax(logits, dim=1), dim=1)\n",
    "            correct_samples += (target == pred).sum()\n",
    "    \n",
    "    avg_test_loss /= len(test_dataset)\n",
    "\n",
    "    accuracy = correct_samples / len(test_dataset)\n",
    "\n",
    "    return avg_test_loss, accuracy\n",
    "    \n"
   ]
  },
  {
   "cell_type": "markdown",
   "metadata": {},
   "source": [
    "# Dummy test- Overfit on a small sample of train data to check if the model works as intended"
   ]
  },
  {
   "cell_type": "code",
   "execution_count": 10,
   "metadata": {},
   "outputs": [],
   "source": [
    "data, target = next(iter(train_loader))\n",
    "epoch_train_loss =[]"
   ]
  },
  {
   "cell_type": "code",
   "execution_count": 12,
   "metadata": {},
   "outputs": [
    {
     "name": "stdout",
     "output_type": "stream",
     "text": [
      "0.8875013589859009\n",
      "0.016137979924678802\n",
      "2.254387982247863e-05\n",
      "1.4901152667334827e-07\n",
      "0.0\n",
      "Epoch 00036: reducing learning rate of group 0 to 1.0000e-04.\n",
      "0.0\n",
      "0.0\n",
      "Epoch 00042: reducing learning rate of group 0 to 1.0000e-05.\n",
      "0.0\n",
      "Epoch 00048: reducing learning rate of group 0 to 1.0000e-06.\n",
      "0.0\n",
      "Epoch 00054: reducing learning rate of group 0 to 1.0000e-07.\n",
      "0.0\n",
      "Epoch 00060: reducing learning rate of group 0 to 1.0000e-08.\n"
     ]
    }
   ],
   "source": [
    "# overfit on 1 batch of training data\n",
    "\n",
    "model.train()\n",
    "\n",
    "for epoch in range(50):\n",
    "    # push data to device\n",
    "    data, target = data.to(device), target.to(device)\n",
    "\n",
    "    # Forward propagation\n",
    "    logits = model(data)\n",
    "\n",
    "    # Calculate loss\n",
    "    loss = criterion(logits, target)\n",
    "    train_loss = loss.item()\n",
    "\n",
    "    # Clean the previous gradients\n",
    "    optimizer.zero_grad()\n",
    "\n",
    "    # Backpropagation from loss, calculate new gradients\n",
    "    loss.backward()\n",
    "\n",
    "    # Update weights by stepping in direction of min gradients\n",
    "    optimizer.step()\n",
    "    scheduler.step(loss)\n",
    "    if epoch % 5 ==0:\n",
    "        print(train_loss)\n",
    "    epoch_train_loss.append(train_loss)"
   ]
  },
  {
   "cell_type": "code",
   "execution_count": 13,
   "metadata": {},
   "outputs": [
    {
     "data": {
      "image/png": "[encoded data removed]",
      "text/plain": [
       "<Figure size 640x480 with 1 Axes>"
      ]
     },
     "metadata": {},
     "output_type": "display_data"
    }
   ],
   "source": [
    "import matplotlib.pyplot as plt\n",
    "plt.plot(range(len(epoch_train_loss)), epoch_train_loss)\n",
    "plt.xlabel('epoch')\n",
    "plt.ylabel('loss')\n",
    "plt.show()"
   ]
  },
  {
   "cell_type": "markdown",
   "metadata": {},
   "source": [
    "# Reset the weights learned from the overfitting experiment and perform actual train and prediction"
   ]
  },
  {
   "cell_type": "code",
   "execution_count": 37,
   "metadata": {},
   "outputs": [
    {
     "ename": "KeyboardInterrupt",
     "evalue": "",
     "output_type": "error",
     "traceback": [
      "\u001b[0;31m---------------------------------------------------------------------------\u001b[0m",
      "\u001b[0;31mKeyboardInterrupt\u001b[0m                         Traceback (most recent call last)",
      "Cell \u001b[0;32mIn[37], line 1\u001b[0m\n\u001b[0;32m----> 1\u001b[0m avg_train_loss \u001b[39m=\u001b[39m train()\n\u001b[1;32m      2\u001b[0m avg_test_loss, accuracy \u001b[39m=\u001b[39m predict()\n",
      "Cell \u001b[0;32mIn[35], line 21\u001b[0m, in \u001b[0;36mtrain\u001b[0;34m()\u001b[0m\n\u001b[1;32m     18\u001b[0m optimizer\u001b[39m.\u001b[39mzero_grad()\n\u001b[1;32m     20\u001b[0m \u001b[39m# Backpropagation from loss, calculate new gradients\u001b[39;00m\n\u001b[0;32m---> 21\u001b[0m loss\u001b[39m.\u001b[39;49mbackward()\n\u001b[1;32m     23\u001b[0m \u001b[39m# Update weights by stepping in direction of min gradients\u001b[39;00m\n\u001b[1;32m     24\u001b[0m optimizer\u001b[39m.\u001b[39mstep()\n",
      "File \u001b[0;32m~/anaconda3/envs/mlmodels/lib/python3.11/site-packages/torch/_tensor.py:487\u001b[0m, in \u001b[0;36mTensor.backward\u001b[0;34m(self, gradient, retain_graph, create_graph, inputs)\u001b[0m\n\u001b[1;32m    477\u001b[0m \u001b[39mif\u001b[39;00m has_torch_function_unary(\u001b[39mself\u001b[39m):\n\u001b[1;32m    478\u001b[0m     \u001b[39mreturn\u001b[39;00m handle_torch_function(\n\u001b[1;32m    479\u001b[0m         Tensor\u001b[39m.\u001b[39mbackward,\n\u001b[1;32m    480\u001b[0m         (\u001b[39mself\u001b[39m,),\n\u001b[0;32m   (...)\u001b[0m\n\u001b[1;32m    485\u001b[0m         inputs\u001b[39m=\u001b[39minputs,\n\u001b[1;32m    486\u001b[0m     )\n\u001b[0;32m--> 487\u001b[0m torch\u001b[39m.\u001b[39;49mautograd\u001b[39m.\u001b[39;49mbackward(\n\u001b[1;32m    488\u001b[0m     \u001b[39mself\u001b[39;49m, gradient, retain_graph, create_graph, inputs\u001b[39m=\u001b[39;49minputs\n\u001b[1;32m    489\u001b[0m )\n",
      "File \u001b[0;32m~/anaconda3/envs/mlmodels/lib/python3.11/site-packages/torch/autograd/__init__.py:200\u001b[0m, in \u001b[0;36mbackward\u001b[0;34m(tensors, grad_tensors, retain_graph, create_graph, grad_variables, inputs)\u001b[0m\n\u001b[1;32m    195\u001b[0m     retain_graph \u001b[39m=\u001b[39m create_graph\n\u001b[1;32m    197\u001b[0m \u001b[39m# The reason we repeat same the comment below is that\u001b[39;00m\n\u001b[1;32m    198\u001b[0m \u001b[39m# some Python versions print out the first line of a multi-line function\u001b[39;00m\n\u001b[1;32m    199\u001b[0m \u001b[39m# calls in the traceback and some print out the last line\u001b[39;00m\n\u001b[0;32m--> 200\u001b[0m Variable\u001b[39m.\u001b[39;49m_execution_engine\u001b[39m.\u001b[39;49mrun_backward(  \u001b[39m# Calls into the C++ engine to run the backward pass\u001b[39;49;00m\n\u001b[1;32m    201\u001b[0m     tensors, grad_tensors_, retain_graph, create_graph, inputs,\n\u001b[1;32m    202\u001b[0m     allow_unreachable\u001b[39m=\u001b[39;49m\u001b[39mTrue\u001b[39;49;00m, accumulate_grad\u001b[39m=\u001b[39;49m\u001b[39mTrue\u001b[39;49;00m)\n",
      "\u001b[0;31mKeyboardInterrupt\u001b[0m: "
     ]
    }
   ],
   "source": [
    "avg_train_loss = train()\n",
    "avg_test_loss, accuracy = predict()\n"
   ]
  },
  {
   "cell_type": "code",
   "execution_count": 32,
   "metadata": {},
   "outputs": [
    {
     "data": {
      "image/png": "[encoded data removed]",
      "text/plain": [
       "<Figure size 640x480 with 1 Axes>"
      ]
     },
     "metadata": {},
     "output_type": "display_data"
    }
   ],
   "source": [
    "plt.plot(range(len(avg_train_loss)), avg_train_loss)\n",
    "plt.xlabel('epoch')\n",
    "plt.ylabel('Train loss')\n",
    "plt.show()"
   ]
  },
  {
   "cell_type": "code",
   "execution_count": 33,
   "metadata": {},
   "outputs": [
    {
     "data": {
      "text/plain": [
       "(0.16018636056184768, tensor(0.5612))"
      ]
     },
     "execution_count": 33,
     "metadata": {},
     "output_type": "execute_result"
    }
   ],
   "source": [
    "avg_test_loss, accuracy"
   ]
  },
  {
   "cell_type": "code",
   "execution_count": null,
   "metadata": {},
   "outputs": [],
   "source": []
  }
 ],
 "metadata": {
  "kernelspec": {
   "display_name": "mlmodels",
   "language": "python",
   "name": "python3"
  },
  "language_info": {
   "codemirror_mode": {
    "name": "ipython",
    "version": 3
   },
   "file_extension": ".py",
   "mimetype": "text/x-python",
   "name": "python",
   "nbconvert_exporter": "python",
   "pygments_lexer": "ipython3",
   "version": "3.11.3"
  },
  "orig_nbformat": 4
 },
 "nbformat": 4,
 "nbformat_minor": 2
}
