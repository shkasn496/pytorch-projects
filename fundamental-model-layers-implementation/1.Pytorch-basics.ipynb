{
 "cells": [
  {
   "cell_type": "code",
   "execution_count": 2,
   "metadata": {},
   "outputs": [],
   "source": [
    "import torch"
   ]
  },
  {
   "attachments": {},
   "cell_type": "markdown",
   "metadata": {},
   "source": [
    "## Initializing a Tensor ##"
   ]
  },
  {
   "cell_type": "code",
   "execution_count": 21,
   "metadata": {},
   "outputs": [],
   "source": [
    "device = \"cuda\" if torch.cuda.is_available() else \"cpu\"\n",
    "\n",
    "tensor_X = torch.tensor([[1,2,3,4],[10,9,8,7]], dtype=torch.float32,\n",
    "                        device=device, requires_grad=True)\n",
    "\n",
    "# attributes of tensor\n",
    "'''\n",
    "print(\"attributes of tensor\")\n",
    "print(tensor_X)\n",
    "print(tensor_X.dtype)\n",
    "print(tensor_X.device)\n",
    "print(tensor_X.shape)\n",
    "'''\n",
    "\n",
    "## Other initialization methods\n",
    "x = torch.empty(size=(3,3)) # unintialized data\n",
    "x = torch.zeros((3,3))\n",
    "x=torch.rand((3,3)) # uniform distribution with values between 0 and 1\n",
    "x=torch.ones((3,3))\n",
    "x=torch.eye(3,3) #identity matrix\n",
    "x=torch.diag(torch.ones(5)) #same as identity matrix\n",
    "x=torch.arange(start=0, end=5, step=1) #similar to range function in python\n",
    "x=torch.linspace(start=0.1,end=1, steps=10)# will start at 0.1, end at 1 and will have 10 values between them\n",
    "x=torch.empty(size=(1,5)).normal_(mean=0, std=1) # with normal distribution\n",
    "\n",
    "## How to initialize and convert tensors to other types (int, float, double)\n",
    "x=torch.arange(4) #int64 by default torch.int64\n",
    "'''\n",
    "print(x.bool())\n",
    "print(x.short()) # convert to torch.int16\n",
    "print(x.long()) # convert to int64 (Important)\n",
    "print(x.half()) # convert to float16\n",
    "print(x.float()) # convert to float32 (Important)\n",
    "print(x.double()) # float64\n",
    "'''\n",
    "\n",
    "## Array to Tensor conversion and vice-versa\n",
    "import numpy as np\n",
    "x=np.zeros((2,2))\n",
    "tensor_X=torch.from_numpy(x)\n",
    "x=tensor_X.numpy() # convert tensor back to numpy\n"
   ]
  },
  {
   "attachments": {},
   "cell_type": "markdown",
   "metadata": {},
   "source": [
    "## Tensor Math and Comparison Operations"
   ]
  },
  {
   "cell_type": "code",
   "execution_count": 36,
   "metadata": {},
   "outputs": [
    {
     "name": "stdout",
     "output_type": "stream",
     "text": [
      "tensor([1, 2, 3]) tensor([1, 2, 2])\n"
     ]
    }
   ],
   "source": [
    "x = torch.tensor([1,2,3])\n",
    "y = torch.tensor([9,8,7])\n",
    "\n",
    "#Addition\n",
    "z1=torch.empty(size=x.shape)\n",
    "torch.add(x, y, out=z1)\n",
    "\n",
    "z2 = torch.add(x, y)\n",
    "\n",
    "z3 = x + y\n",
    "\n",
    "y.add_(x) #store result in y (inplace operation)\n",
    "\n",
    "# Exponentiation (Element wise operations)\n",
    "z = x.pow(2)\n",
    "z = x ** 2\n",
    " \n",
    "# Simple comparison (Element wise operations)\n",
    "z = x > 0\n",
    "\n",
    "# Matrix multiplication\n",
    "x1 = torch.rand((2,5))\n",
    "x2 = torch.rand((5,3))\n",
    "x3 = torch.mm(x1, x2)\n",
    "x3 = x1.mm(x2)\n",
    "\n",
    "# Batch Matrix multiplication\n",
    "batch = 32\n",
    "n=10\n",
    "m=20\n",
    "p=30\n",
    "t1 = torch.rand((batch, n, m))\n",
    "t2 = torch.rand((batch, m, p))\n",
    "t3 = torch.bmm(t1, t2) # (batch, n, p)\n",
    "\n",
    "# Example of Broadcasting\n",
    "x1 = torch.rand((5,5)) # matrix\n",
    "x2 = torch.rand((1, 5)) # vector\n",
    " # we cannot subtract a vector from a matrix. So, when we do x1 - x2 , pytorch performs \"Broadcasting\"\n",
    " # Broadcasting means we expand one dimension to match the other dimension in order to perform said operation\n",
    " # in this example, (1,5) vector gets stretched out to match (5,5) with its values being copied to the bigger dim.\n",
    " # Then the subtraction is performed\n",
    "z= x1 - x2\n",
    "z = x1 ** x2\n",
    "\n",
    "# Other useful tensor operations\n",
    "sum_x = torch.sum(x, dim=0)\n",
    "values, indices = torch.max(x, dim=0)\n",
    "values, indices = torch.min(x, dim=0)\n",
    "abs_x = torch.abs(x)\n",
    "z=torch.argmax(x,dim=0) # returns the index of maximum. \n",
    "z=torch.argmin(x,dim=0) # returns the index of minimum. \n",
    "z = torch.eq(x, y) # element wise comparison for a matrix\n",
    "sorted_y, indices = torch.sort(x, dim=0, descending=False)\n",
    "\n",
    "# torch.clamp is general case of relu func\n",
    "z = torch.clamp(x, min=0, max=2) # clamp values 0-2 tensor([1, 2, 2]) \n",
    "\n",
    "x = torch.tensor([1,0,1,1,1,1], dtype=bool)\n",
    "z = torch.any(x) #True\n",
    "z = torch.all(x) # False\n"
   ]
  },
  {
   "attachments": {},
   "cell_type": "markdown",
   "metadata": {},
   "source": [
    "## Tensor Indexing"
   ]
  },
  {
   "cell_type": "code",
   "execution_count": 50,
   "metadata": {},
   "outputs": [
    {
     "name": "stdout",
     "output_type": "stream",
     "text": [
      "torch.Size([25])\n",
      "torch.Size([10])\n",
      "tensor([12.2000, 15.5000, 18.8000])\n",
      "tensor([0.6658, 0.8468])\n",
      "tensor([0, 1, 9])\n",
      "tensor([0, 2, 4, 6, 8])\n",
      "tensor([ 0,  2,  4,  6,  8, 10,  6,  7,  8,  9])\n",
      "tensor([0, 1, 2])\n",
      "1\n",
      "10\n"
     ]
    }
   ],
   "source": [
    "batch=10\n",
    "features=25\n",
    "x=torch.rand((batch, features))\n",
    "print(x[0].shape) # get all features of 1 batch elem torch.Size([25])\n",
    "print(x[:,0].shape) # get feature 0 from all batch elems torch.Size([10])\n",
    "\n",
    "# Fancy indexing\n",
    "x = torch.linspace(10, end=21, steps=11)\n",
    "indices=[2,5,8]\n",
    "print(x[indices])\n",
    "\n",
    "x = torch.rand((3,5))\n",
    "rows= torch.tensor([1,0])\n",
    "cols = torch.tensor([4,0])\n",
    "print(x[rows,cols])\n",
    "\n",
    "# More advanced indexing\n",
    "x=torch.arange(10)\n",
    "print(x[(x< 2) | (x>8)]) # pick out values less than 2 or greater than 8\n",
    "print(x[x.remainder(2)==0])\n",
    "\n",
    "# Use operations\n",
    "print(torch.where(x > 5, x, x*2))\n",
    "print(torch.tensor([0,0,1,1,1,2]).unique())\n",
    "print(x.ndimension()) # will give you how many dimensions there are in the tensor\n",
    "print(x.numel()) # will count how many values are in tensor"
   ]
  },
  {
   "attachments": {},
   "cell_type": "markdown",
   "metadata": {},
   "source": [
    "## Tensor Reshaping"
   ]
  },
  {
   "cell_type": "code",
   "execution_count": 63,
   "metadata": {},
   "outputs": [
    {
     "name": "stdout",
     "output_type": "stream",
     "text": [
      "torch.Size([10, 10])\n",
      "torch.Size([10, 5, 2])\n",
      "torch.Size([1, 3, 3])\n",
      "torch.Size([3, 3, 1])\n",
      "torch.Size([3, 3])\n",
      "torch.Size([3, 3])\n"
     ]
    }
   ],
   "source": [
    "x = torch.arange(9)\n",
    "\n",
    "x_3_3 = x.view(3,3)\n",
    "x_3_3 = x.reshape(3,3)\n",
    "\n",
    "z = x_3_3.view(-1) # flatten\n",
    "x = torch.rand((batch, 2, 5))\n",
    "z = x.view(batch, -1)\n",
    "print(z.shape)\n",
    "\n",
    "# switch axis\n",
    "z = x.permute(0, 2, 1) # torch.Size([10, 5, 2])\n",
    "print(z.shape) \n",
    "# transpose is special case of permute\n",
    "\n",
    "# adding a dimension to existing vector/matrix\n",
    "print(x_3_3.unsqueeze(0).shape)\n",
    "print(x_3_3.unsqueeze(-1).shape)\n",
    "\n",
    "# remove a dimension\n",
    "print(x_3_3.shape)\n",
    "print(x_3_3.unsqueeze(-1).squeeze(-1).shape)"
   ]
  },
  {
   "cell_type": "code",
   "execution_count": null,
   "metadata": {},
   "outputs": [],
   "source": []
  }
 ],
 "metadata": {
  "kernelspec": {
   "display_name": ".venv",
   "language": "python",
   "name": "python3"
  },
  "language_info": {
   "codemirror_mode": {
    "name": "ipython",
    "version": 3
   },
   "file_extension": ".py",
   "mimetype": "text/x-python",
   "name": "python",
   "nbconvert_exporter": "python",
   "pygments_lexer": "ipython3",
   "version": "3.9.1"
  },
  "orig_nbformat": 4
 },
 "nbformat": 4,
 "nbformat_minor": 2
}
