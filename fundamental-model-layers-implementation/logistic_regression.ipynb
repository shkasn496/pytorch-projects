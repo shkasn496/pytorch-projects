{
 "cells": [
  {
   "cell_type": "code",
   "execution_count": 34,
   "metadata": {},
   "outputs": [],
   "source": [
    "import numpy as np\n",
    "from sklearn.datasets import make_blobs\n",
    "import pandas as pd\n",
    "import matplotlib.pyplot as plt"
   ]
  },
  {
   "cell_type": "markdown",
   "metadata": {},
   "source": [
    "# Logistic Regression"
   ]
  },
  {
   "cell_type": "code",
   "execution_count": 2,
   "metadata": {},
   "outputs": [
    {
     "data": {
      "text/plain": [
       "((10000, 50),\n",
       " (10000,),\n",
       " array([ -1.64696236,   9.01090797,  -1.98802147,   3.15233111,\n",
       "          4.0968578 ,  -0.31496637,   9.38750768,  -6.42837045,\n",
       "          1.42962762,  -3.91217189,   7.92913909,  -4.39952451,\n",
       "          8.44815599,  -3.07259154,   8.11420031,  -8.8215984 ,\n",
       "          5.12037187,   1.14821248,   8.732371  ,  -7.21743621,\n",
       "          3.82449992,   1.70658374,  -3.67938881,   1.44851931,\n",
       "          0.278591  ,  -1.54479365,  -6.47671786,   8.85149763,\n",
       "          4.48864538,  -9.18381865,  -6.14643768,   1.57909819,\n",
       "         -8.79125185,  -1.80473363,   7.00168712,  -5.17167082,\n",
       "         -0.86552474, -10.04987864,  -1.32608066,   4.1283862 ,\n",
       "          5.00128572,   7.74307333,  -8.72304822,   7.57489181,\n",
       "          7.55145763,  -7.60251926,   4.2136229 ,  -5.4308731 ,\n",
       "         -0.97963148,   3.44636361]))"
      ]
     },
     "execution_count": 2,
     "metadata": {},
     "output_type": "execute_result"
    }
   ],
   "source": [
    "# Dataset\n",
    "X_org, y_org = make_blobs(n_samples=10000, n_features=50, centers=2)\n",
    "# y_org = y_org[:, np.newaxis] #(10000,1)\n",
    "X_org.shape, y_org.shape, X_org[0]"
   ]
  },
  {
   "cell_type": "markdown",
   "metadata": {},
   "source": [
    "# Feature Normalization\n",
    "1. Subtract the mean value of each feature from the dataset.\n",
    "2. After subtracting the mean, additionally scale (divide) the feature values by their resp. standard deviations."
   ]
  },
  {
   "cell_type": "code",
   "execution_count": 3,
   "metadata": {},
   "outputs": [
    {
     "data": {
      "text/plain": [
       "array([-0.78476679,  1.06769693,  0.47990452,  1.19198167,  0.71959579,\n",
       "        1.13123695,  1.09017403, -0.75671711,  1.28782452,  0.30402438,\n",
       "        1.13158043,  0.19764999,  1.2657986 , -0.09864014,  0.87545348,\n",
       "       -1.09255284,  1.29040323,  1.25660511,  0.63472267, -0.78521233,\n",
       "        0.96092757, -1.72195679, -1.03012402,  1.08734317, -1.56028428,\n",
       "        0.43752889, -0.92710716,  1.18547887,  1.13566598, -1.03210694,\n",
       "       -1.12983182, -0.07269722, -0.86839119, -1.01507089, -1.16230636,\n",
       "       -0.78152797,  0.6767667 , -1.11106834, -0.91976262, -1.41440372,\n",
       "       -0.52396353,  0.9607229 , -0.95215891,  0.93215995,  0.80291161,\n",
       "       -0.85358927,  0.95452387, -0.67183686, -1.17591788, -1.06749541])"
      ]
     },
     "execution_count": 3,
     "metadata": {},
     "output_type": "execute_result"
    }
   ],
   "source": [
    "X_org=(X_org - np.mean(X_org, axis=0))/np.std(X_org, axis=0)\n",
    "X_org[0]"
   ]
  },
  {
   "cell_type": "markdown",
   "metadata": {},
   "source": [
    "# Create Train - Test split"
   ]
  },
  {
   "cell_type": "code",
   "execution_count": 4,
   "metadata": {},
   "outputs": [
    {
     "name": "stdout",
     "output_type": "stream",
     "text": [
      "7000 3000\n"
     ]
    },
    {
     "data": {
      "text/plain": [
       "((7000, 51), (7000, 1), (3000, 51), (3000, 1))"
      ]
     },
     "execution_count": 4,
     "metadata": {},
     "output_type": "execute_result"
    }
   ],
   "source": [
    "data = pd.concat([pd.DataFrame(X_org), pd.DataFrame(y_org)], axis=1)\n",
    "\n",
    "# get train and test datasets\n",
    "train_set = data.sample(frac=0.7, replace=False, random_state=42)\n",
    "\n",
    "test_set = data.drop(train_set.index)\n",
    "\n",
    "print(len(train_set), len(test_set))\n",
    "\n",
    "X_train, y_train = train_set.iloc[:, :-1].to_numpy(), train_set.iloc[:, -1].to_numpy()\n",
    "X_test, y_test = test_set.iloc[:, :-1].to_numpy(), test_set.iloc[:, -1].to_numpy()\n",
    "\n",
    "# store 1's in the 0th column of dataset to add intercept term\n",
    "ones = np.ones(shape=(X_train.shape[0], 1))\n",
    "X_train = np.column_stack((ones, X_train))\n",
    "\n",
    "ones = np.ones(shape=(X_test.shape[0], 1))\n",
    "X_test = np.column_stack((ones, X_test))\n",
    "\n",
    "# add 1 column to labels\n",
    "y_train = y_train[:, np.newaxis]\n",
    "y_test = y_test[:, np.newaxis]\n",
    "\n",
    "X_train.shape, y_train.shape, X_test.shape, y_test.shape"
   ]
  },
  {
   "cell_type": "markdown",
   "metadata": {},
   "source": [
    "# Create Logistic Regression Class"
   ]
  },
  {
   "cell_type": "code",
   "execution_count": 29,
   "metadata": {},
   "outputs": [],
   "source": [
    "class LogisticRegression():\n",
    "    def __init__(self, features, lr):\n",
    "        self.theta = np.zeros(shape=(features, 1))\n",
    "        self.lr = lr\n",
    "        return\n",
    "\n",
    "    def forward(self, X):\n",
    "        linear = np.dot(X, self.theta)\n",
    "        return sigmoid(linear)\n",
    "\n",
    "    def backward(self, X, y, y_hat):\n",
    "        batch = y_hat.shape[0]\n",
    "        # calculate gradients \n",
    "        dl_dtheta = (1/batch) * np.dot(X.T, (y_hat - y))\n",
    "        \n",
    "        self.theta -= self.lr * dl_dtheta\n",
    "        return\n",
    "\n",
    "def sigmoid(z):\n",
    "    return 1 / (1+np.exp(-z))\n",
    "\n",
    "def bce_loss(y, y_hat):\n",
    "    batch = y_hat.shape[0]\n",
    "    a = np.dot(y.T, np.log(y_hat))\n",
    "    b = np.dot((1-y).T, np.log(1-y_hat))\n",
    "    return (-1/batch) * (a + b)"
   ]
  },
  {
   "cell_type": "markdown",
   "metadata": {},
   "source": [
    "# Import model and hyperparameters"
   ]
  },
  {
   "cell_type": "code",
   "execution_count": 30,
   "metadata": {},
   "outputs": [
    {
     "data": {
      "text/plain": [
       "(51, 1)"
      ]
     },
     "execution_count": 30,
     "metadata": {},
     "output_type": "execute_result"
    }
   ],
   "source": [
    "epochs = 50\n",
    "lr = 0.01\n",
    "batch_size = 100\n",
    "features = X_train.shape[1] # (m + 1)\n",
    "x_train_batches = X_train.reshape(-1, batch_size, features)\n",
    "y_train_batches = y_train.reshape(-1, batch_size, 1)\n",
    "\n",
    "model = LogisticRegression(features, lr)\n",
    "model.theta.shape"
   ]
  },
  {
   "cell_type": "markdown",
   "metadata": {},
   "source": [
    "# Training Pipeline"
   ]
  },
  {
   "cell_type": "code",
   "execution_count": 31,
   "metadata": {},
   "outputs": [
    {
     "data": {
      "text/plain": [
       "((100, 1), (100, 1), (100, 51))"
      ]
     },
     "execution_count": 31,
     "metadata": {},
     "output_type": "execute_result"
    }
   ],
   "source": [
    "y_train_batches[0].shape, model.forward(x_train_batches[0]).shape, x_train_batches[0].shape"
   ]
  },
  {
   "cell_type": "code",
   "execution_count": 32,
   "metadata": {},
   "outputs": [
    {
     "name": "stdout",
     "output_type": "stream",
     "text": [
      "Batch BCE Loss = 9.46 at epoch 0/50\n",
      "Batch BCE Loss = 0.25 at epoch 10/50\n",
      "Batch BCE Loss = 0.13 at epoch 20/50\n",
      "Batch BCE Loss = 0.09 at epoch 30/50\n",
      "Batch BCE Loss = 0.07 at epoch 40/50\n"
     ]
    }
   ],
   "source": [
    "train_loss = []\n",
    "for epoch in range(epochs):\n",
    "    batch_loss = 0.0\n",
    "    for x_batch, y_batch in zip(x_train_batches, y_train_batches):\n",
    "        # forward propagation\n",
    "        y_hat = model.forward(X=x_batch) # (100, 1)\n",
    "\n",
    "        # calculate loss\n",
    "        cf = bce_loss(y=y_batch, y_hat=y_hat)\n",
    "        batch_loss+=cf\n",
    "\n",
    "        # backward propagation, calculate gradients, update weights\n",
    "        model.backward(X=x_batch, y=y_batch, y_hat=y_hat)\n",
    "    \n",
    "    batch_loss = np.average(batch_loss)\n",
    "    train_loss.append(batch_loss)\n",
    "\n",
    "    if epoch%10==0:\n",
    "        print(f'Batch BCE Loss = {round(batch_loss,2)} at epoch {epoch}/{epochs}')"
   ]
  },
  {
   "cell_type": "code",
   "execution_count": 35,
   "metadata": {},
   "outputs": [
    {
     "data": {
      "image/png": "[encoded data removed]",
      "text/plain": [
       "<Figure size 640x480 with 1 Axes>"
      ]
     },
     "metadata": {},
     "output_type": "display_data"
    }
   ],
   "source": [
    "def plot_cost(loss, num_epochs):\n",
    "    plt.xlabel(\"Epochs\")\n",
    "    plt.ylabel(\"Cost\")\n",
    "    plt.plot(num_epochs, loss, 'm', linewidth='5')\n",
    "    plt.show()\n",
    "\n",
    "plot_cost(train_loss, range(epochs))"
   ]
  },
  {
   "cell_type": "markdown",
   "metadata": {},
   "source": [
    "# Predict on Test data"
   ]
  },
  {
   "cell_type": "code",
   "execution_count": 43,
   "metadata": {},
   "outputs": [
    {
     "name": "stdout",
     "output_type": "stream",
     "text": [
      "Accuracy on test data : 100.0% and test bce loss : 0.000775605002768876\n",
      "Precision : 1.0, Recall : 1.0, F1 score: 1.0\n"
     ]
    }
   ],
   "source": [
    "def predict(x_test, y_test):\n",
    "    # get trained model params\n",
    "    prob = model.forward(x_test) # (3000, 1)\n",
    "\n",
    "    # get class label\n",
    "    y_pred = prob > 0.5\n",
    "\n",
    "    correct_samples = np.sum(y_pred == y_test)\n",
    "    total_samples = y_test.shape[0]\n",
    "\n",
    "    accuracy = (correct_samples/total_samples)*100\n",
    "\n",
    "    test_loss = bce_loss(y=y_test, y_hat=prob)\n",
    "\n",
    "    tp, fp, tn, fn = 0, 0, 0, 0\n",
    "    for gt, pred in zip(y_test, y_pred):\n",
    "        gt, pred = int(gt),int(pred)\n",
    "        if gt == pred==1:tp+=1\n",
    "        elif gt==1 and pred==0:fn+=1\n",
    "        elif gt==0 and pred==1:fp+=1\n",
    "        else:tn+=1\n",
    "\n",
    "    try:precision = tp/(tp+fp)\n",
    "    except:precision = 1.0\n",
    "\n",
    "    try:recall = tp/(tp+fn)\n",
    "    except:recall = 1.0\n",
    "\n",
    "    f1_score = 2*(precision*recall)/(precision + recall)\n",
    "\n",
    "    print(f\"Accuracy on test data : {accuracy}% and test bce loss : {test_loss[0][0]}\")\n",
    "    print(f\"Precision : {precision}, Recall : {recall}, F1 score: {f1_score}\")\n",
    "    return\n",
    "\n",
    "predict(X_test, y_test)\n",
    "\n",
    "    "
   ]
  }
 ],
 "metadata": {
  "kernelspec": {
   "display_name": ".venv",
   "language": "python",
   "name": "python3"
  },
  "language_info": {
   "codemirror_mode": {
    "name": "ipython",
    "version": 3
   },
   "file_extension": ".py",
   "mimetype": "text/x-python",
   "name": "python",
   "nbconvert_exporter": "python",
   "pygments_lexer": "ipython3",
   "version": "3.11.3"
  },
  "orig_nbformat": 4,
  "vscode": {
   "interpreter": {
    "hash": "3cfdb778f199dae3f0fbf662e64034c189d071d54e6b01545d03a400544af2e2"
   }
  }
 },
 "nbformat": 4,
 "nbformat_minor": 2
}
