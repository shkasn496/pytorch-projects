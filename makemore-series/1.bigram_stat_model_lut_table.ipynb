{
 "cells": [
  {
   "cell_type": "markdown",
   "metadata": {},
   "source": [
    "Goal: Create a basic bigram model which only looks one token back to generate the next token\n",
    "Implementation is of a character-level model, for foundational understanding"
   ]
  },
  {
   "cell_type": "code",
   "execution_count": 2,
   "metadata": {},
   "outputs": [],
   "source": [
    "import torch"
   ]
  },
  {
   "cell_type": "markdown",
   "metadata": {},
   "source": [
    "Read and explore the dataset"
   ]
  },
  {
   "cell_type": "code",
   "execution_count": null,
   "metadata": {},
   "outputs": [],
   "source": [
    "# Load the data\n",
    "with open(\"./names.txt\") as f:\n",
    "    words = f.read().splitlines()\n",
    "   \n",
    "# Explore some stats\n",
    "stats = {w: len(w) for w in words}\n",
    "min_max_words = [w for w in words if len(w) in {min(stats.values()), max(stats.values())}]"
   ]
  },
  {
   "cell_type": "code",
   "execution_count": 42,
   "metadata": {},
   "outputs": [
    {
     "name": "stdout",
     "output_type": "stream",
     "text": [
      "Min length of data : 2\n",
      "Max length of data : 15\n",
      "Duplicate words in data: 2539\n",
      "67 min_max_words=['zy', 'zo', 'zo', 'yu', 'yi', 'xi', 'vy', 'vu', 'vi', 'ty', 'ty', 'tu', 'tj', 'sy', 'sa', 'ry', 'rj', 'ra', 'qi', 'oz', 'om', 'my', 'muhammadmustafa', 'muhammadibrahim', 'mj', 'mj', 'mi', 'md', 'ma', 'lu', 'lo', 'lj', 'la', 'ky', 'ky', 'ku', 'kj', 'ki', 'kc', 'kc', 'jw', 'jt', 'jr', 'jp', 'jo', 'jo', 'jj', 'jd', 'jc', 'jb', 'io', 'fe', 'ej', 'eh', 'eh', 'ed', 'do', 'dj', 'cy', 'cj', 'bo', 'bo', 'ao', 'an', 'an', 'al', 'aj']\n"
     ]
    }
   ],
   "source": [
    "print(f\"Min length of data : {min(stats.values())}\")\n",
    "print(f\"Max length of data : {max(stats.values())}\")\n",
    "print(f\"Duplicate words in data: {len(words)-len(stats)}\")\n",
    "print(len(min_max_words), f\"{min_max_words=}\")"
   ]
  },
  {
   "cell_type": "code",
   "execution_count": null,
   "metadata": {},
   "outputs": [],
   "source": []
  }
 ],
 "metadata": {
  "kernelspec": {
   "display_name": "kavya_torch",
   "language": "python",
   "name": "python3"
  },
  "language_info": {
   "codemirror_mode": {
    "name": "ipython",
    "version": 3
   },
   "file_extension": ".py",
   "mimetype": "text/x-python",
   "name": "python",
   "nbconvert_exporter": "python",
   "pygments_lexer": "ipython3",
   "version": "3.10.12"
  }
 },
 "nbformat": 4,
 "nbformat_minor": 2
}
